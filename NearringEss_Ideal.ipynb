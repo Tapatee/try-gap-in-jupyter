{
 "cells": [
  {
   "cell_type": "code",
   "execution_count": 32,
   "metadata": {},
   "outputs": [
    {
     "name": "stdout",
     "output_type": "stream",
     "text": [
      "Essential subgroups:\n",
      "[ Group( () ), Group( [ (1,5)(2,6)(3,7)(4,8) ] ), \n",
      "  Group( [ (1,5)(2,6)(3,7)(4,8), (1,3,5,7)(2,4,6,8) ] ), \n",
      "  Group( [ (1,5)(2,6)(3,7)(4,8), (1,3,5,7)(2,4,6,8), (1,2,3,4,5,6,7,8) ] ) ]\n"
     ]
    },
    {
     "data": {
      "text/plain": [
       "true"
      ]
     },
     "execution_count": 29,
     "metadata": {
      "text/plain": ""
     },
     "output_type": "execute_result"
    },
    {
     "data": {
      "text/plain": [
       "[ Group(()), Group([ (1,5)(2,6)(3,7)(4,8) ]), Group([ (1,5)(2,6)(3,7)(4,8), (1,3,5,7)(2,4,6,8) ]), Group([ (1,5)(2,6)(3,7)(4,8), (1,3,5,7)(2,4,6,8), (1,2,3,4,5,6,7,8) ]) ]"
      ]
     },
     "execution_count": 30,
     "metadata": {
      "text/plain": ""
     },
     "output_type": "execute_result"
    }
   ],
   "source": [
    "LoadPackage(\"digraphs\");\n",
    "essentialSubgroups := [];\n",
    "\n",
    "for i in [1..Length(S)] do\n",
    "    subgroup := S[i];\n",
    "    intersectionNonEmpty := true;\n",
    "    # Check if the intersection of subgroup with all other subgroups is non-empty\n",
    "    for j in [1..Length(S)] do\n",
    "        if j <> i then\n",
    "            if Size(Intersection(subgroup, S[j])) = 0 then\n",
    "                intersectionNonEmpty := false;\n",
    "                break;\n",
    "            fi;\n",
    "        fi;\n",
    "    od;\n",
    "    # If the intersection with all other subgroups is non-empty, store the subgroup\n",
    "    if intersectionNonEmpty then\n",
    "        Add(essentialSubgroups, subgroup);\n",
    "    fi;\n",
    "od;\n",
    "\n",
    "# Display the essential subgroups\n",
    "Print(\"Essential subgroups:\\n\", essentialSubgroups, \"\\n\");\n",
    "\n",
    "\n"
   ]
  },
  {
   "cell_type": "code",
   "execution_count": 39,
   "metadata": {},
   "outputs": [
    {
     "name": "stdout",
     "output_type": "stream",
     "text": [
      "Let:\n",
      "g0 := ()\n",
      "g1 := (1,2,3,4)\n",
      "g2 := (1,3)(2,4)\n",
      "g3 := (1,4,3,2)\n",
      "\n",
      "   *  | g0  g1  g2  g3  \n",
      "  --------------------\n",
      "  g0  | g0  g1  g2  g3  \n",
      "  g1  | g1  g2  g3  g0  \n",
      "  g2  | g2  g3  g0  g1  \n",
      "  g3  | g3  g0  g1  g2  \n",
      "Essential subgroups:\n",
      "[ Group( () ), Group( [ (1,5)(2,6)(3,7)(4,8) ] ), \n",
      "  Group( [ (1,5)(2,6)(3,7)(4,8), (1,3,5,7)(2,4,6,8) ] ), \n",
      "  Group( [ (1,5)(2,6)(3,7)(4,8), (1,3,5,7)(2,4,6,8), (1,2,3,4,5,6,7,8) ] ), \n",
      "  Group( () ), Group( [ (1,3)(2,4) ] ), Group( [ (1,3)(2,4), (1,2,3,4) ] ) ]\n"
     ]
    },
    {
     "data": {
      "text/plain": [
       "true"
      ]
     },
     "execution_count": 33,
     "metadata": {
      "text/plain": ""
     },
     "output_type": "execute_result"
    },
    {
     "data": {
      "text/plain": [
       "Group([ (1,2,3,4) ])"
      ]
     },
     "execution_count": 34,
     "metadata": {
      "text/plain": ""
     },
     "output_type": "execute_result"
    },
    {
     "data": {
      "text/plain": [
       "[ Group(()), Group([ (1,3)(2,4) ]), Group([ (1,3)(2,4), (1,2,3,4) ]) ]"
      ]
     },
     "execution_count": 36,
     "metadata": {
      "text/plain": ""
     },
     "output_type": "execute_result"
    },
    {
     "data": {
      "text/plain": [
       "[  ]"
      ]
     },
     "execution_count": 37,
     "metadata": {
      "text/plain": ""
     },
     "output_type": "execute_result"
    }
   ],
   "source": [
    "LoadPackage(\"Sonata\");\n",
    "\n",
    "G := CyclicGroup(IsPermGroup, 4);\n",
    "PrintTable(G);\n",
    "S := Subgroups(G);\n",
    "essentialSubgrous := [];\n",
    "\n",
    "for i in [1..Length(S)] do\n",
    "    subgroup := S[i];\n",
    "    intersectionNonEmpty := true;\n",
    "    # Check if the intersection of subgroup with all other subgroups is non-empty\n",
    "    for j in [1..Length(S)] do\n",
    "        if j <> i then\n",
    "            if Size(Intersection(subgroup, S[j])) = 0 then\n",
    "                intersectionNonEmpty := false;\n",
    "                break;\n",
    "            fi;\n",
    "        fi;\n",
    "    od;\n",
    "    # If the intersection with all other subgroups is non-empty, store the subgroup\n",
    "    if intersectionNonEmpty then\n",
    "        Add(essentialSubgroups, subgroup);\n",
    "    fi;\n",
    "od;\n",
    "\n",
    "Print(\"Essential subgroups:\\n\", essentialSubgroups, \"\\n\");"
   ]
  },
  {
   "cell_type": "code",
   "execution_count": 46,
   "metadata": {},
   "outputs": [
    {
     "name": "stdout",
     "output_type": "stream",
     "text": [
      "Let:\n",
      "g0 := ()\n",
      "g1 := (1,2,3,4)\n",
      "g2 := (1,3)(2,4)\n",
      "g3 := (1,4,3,2)\n",
      "\n",
      "   *  | g0  g1  g2  g3  \n",
      "  --------------------\n",
      "  g0  | g0  g1  g2  g3  \n",
      "  g1  | g1  g2  g3  g0  \n",
      "  g2  | g2  g3  g0  g1  \n",
      "  g3  | g3  g0  g1  g2  \n",
      "Essential subgroups:\n",
      "[ Group( () ), Group( [ (1,5)(2,6)(3,7)(4,8) ] ), \n",
      "  Group( [ (1,5)(2,6)(3,7)(4,8), (1,3,5,7)(2,4,6,8) ] ), \n",
      "  Group( [ (1,5)(2,6)(3,7)(4,8), (1,3,5,7)(2,4,6,8), (1,2,3,4,5,6,7,8) ] ), \n",
      "  Group( () ), Group( [ (1,3)(2,4) ] ), Group( [ (1,3)(2,4), (1,2,3,4) ] ), \n",
      "  Group( () ), Group( [ (1,3)(2,4) ] ), Group( [ (1,3)(2,4), (1,2,3,4) ] ) ]\n"
     ]
    },
    {
     "data": {
      "text/plain": [
       "true"
      ]
     },
     "execution_count": 40,
     "metadata": {
      "text/plain": ""
     },
     "output_type": "execute_result"
    },
    {
     "data": {
      "text/plain": [
       "Group([ (1,2,3,4) ])"
      ]
     },
     "execution_count": 41,
     "metadata": {
      "text/plain": ""
     },
     "output_type": "execute_result"
    },
    {
     "data": {
      "text/plain": [
       "[ Group(()), Group([ (1,3)(2,4) ]), Group([ (1,3)(2,4), (1,2,3,4) ]) ]"
      ]
     },
     "execution_count": 43,
     "metadata": {
      "text/plain": ""
     },
     "output_type": "execute_result"
    },
    {
     "data": {
      "text/plain": [
       "[  ]"
      ]
     },
     "execution_count": 44,
     "metadata": {
      "text/plain": ""
     },
     "output_type": "execute_result"
    }
   ],
   "source": [
    "LoadPackage(\"Sonata\");\n",
    "\n",
    "G := CyclicGroup(IsPermGroup, 4);\n",
    "PrintTable(G);\n",
    "S := Subgroups(G);\n",
    "essentialSubgrous := [];\n",
    "\n",
    "for i in [1..Length(S)] do\n",
    "    subgroup := S[i];\n",
    "    intersectionNonEmpty := true;\n",
    "    # Check if the intersection of subgroup with all other subgroups is non-empty\n",
    "    for j in [1..Length(S)] do\n",
    "        if j <> i then\n",
    "            if Size(Intersection(subgroup, S[j])) = 0 then\n",
    "                intersectionNonEmpty := false;\n",
    "                break;\n",
    "            fi;\n",
    "        fi;\n",
    "    od;\n",
    "    # If the intersection with all other subgroups is non-empty, store the subgroup\n",
    "    if intersectionNonEmpty then\n",
    "        Add(essentialSubgroups, subgroup);\n",
    "    fi;\n",
    "od;\n",
    "\n",
    "Print(\"Essential subgroups:\\n\", essentialSubgroups, \"\\n\");"
   ]
  },
  {
   "cell_type": "code",
   "execution_count": null,
   "metadata": {},
   "outputs": [],
   "source": [
    "# Load the package\n",
    "LoadPackage(\"Sonata\");;\n",
    "\n",
    "\n",
    "# Construct the cyclic group Zn\n",
    "G := CyclicGroup(IsPermGroup, 8);;\n",
    "\n",
    "# Print the table of the group\n",
    "PrintTable(G);\n",
    "\n",
    "# Get the subgroups of the group\n",
    "S := Subgroups(G);;\n",
    "A:=S[1];; B:=S[2];; C:=S[3];; D:=S[4];;\n",
    "AsList(A); AsList(B); AsList(C); AsList(D);\n",
    "\n",
    "# Initialize a set to store the essential subgroups\n",
    "essentialSubgroups := [];;\n",
    "\n",
    "# Iterate over each subgroup in S\n",
    "for i in [2..Length(S)] do\n",
    "    subgroup := S[i];\n",
    "    intersectionNonEmpty := true;\n",
    "    # Check if the intersection of subgroup with all other subgroups is non-empty\n",
    "    for j in [2..Length(S)] do        \n",
    "        if Size(Intersection(subgroup, S[j])) = 1 then\n",
    "            intersectionNonEmpty := false;\n",
    "            break;\n",
    "        fi;\n",
    "    od;\n",
    "    # If the intersection with all other subgroups is non-empty, store the subgroup\n",
    "    if intersectionNonEmpty then\n",
    "        Add(essentialSubgroups, subgroup);\n",
    "    fi;\n",
    "od;\n",
    "\n",
    "# Display all subgroups\n",
    "Print(\"All subgroups:\\n\", AsList(S), \"\\n\");\n",
    "\n",
    "# Display the essential subgroups\n",
    "Print(\"Essential subgroups:\\n\", AsList(essentialSubgroups), \"\\n\");\n"
   ]
  },
  {
   "cell_type": "code",
   "execution_count": 17,
   "metadata": {},
   "outputs": [
    {
     "name": "stdout",
     "output_type": "stream",
     "text": [
      "#I  You may wish to install the xgap package\n",
      "#I  and enjoy the graphic capabilities of SONATA.\n",
      "Let:\n",
      "g0 := ()\n",
      "g1 := (3,4)\n",
      "g2 := (1,2)\n",
      "g3 := (1,2)(3,4)\n",
      "\n",
      "   *  | g0  g1  g2  g3  \n",
      "  --------------------\n",
      "  g0  | g0  g1  g2  g3  \n",
      "  g1  | g1  g0  g3  g2  \n",
      "  g2  | g2  g3  g0  g1  \n",
      "  g3  | g3  g2  g1  g0  \n"
     ]
    },
    {
     "name": "stderr",
     "output_type": "stream",
     "text": [
      "Error, Variable: 'E' is read only\n",
      "not in any function at stream:14\n",
      "Error, no method found! For debugging hints type ?Recovery from NoMethodFound\n",
      "Error, no 1st choice method found for `AsList' on 1 arguments at /home/gap/inst/gap-4.11.1/lib/methsel2.g:249 called from\n",
      "<function \"HANDLE_METHOD_NOT_FOUND\">( <arguments> )\n",
      " called from read-eval loop at stream:15\n"
     ]
    },
    {
     "name": "stdout",
     "output_type": "stream",
     "text": [
      "All subgroups:\n",
      "[ Group( () ), Group( [ (3,4) ] ), Group( [ (1,2) ] ), \n",
      "  Group( [ (1,2)(3,4) ] ), Group( [ (3,4), (1,2) ] ) ]\n",
      "Essential subgroups:\n",
      "[ Group( [ (3,4), (1,2) ] ) ]\n"
     ]
    },
    {
     "data": {
      "text/plain": [
       "5"
      ]
     },
     "execution_count": 5,
     "metadata": {
      "text/plain": ""
     },
     "output_type": "execute_result"
    }
   ],
   "source": [
    "# Load the package\n",
    "LoadPackage(\"Sonata\");;\n",
    "\n",
    "\n",
    "# Construct the cyclic group Zn\n",
    "G := GTW4_2;;\n",
    "\n",
    "# Print the table of the group\n",
    "PrintTable(G);\n",
    "\n",
    "# Get the subgroups of the group\n",
    "S := Subgroups(G);;\n",
    "Size(S);\n",
    "A:=S[1];; B:=S[2];; C:=S[3];; D:=S[4];; E:=S[5];;\n",
    "AsList(A);; AsList(B);; AsList(C);; AsList(D);; AsList(E);;\n",
    "\n",
    "# Initialize a set to store the essential subgroups\n",
    "essentialSubgroups := [];;\n",
    "\n",
    "# Iterate over each subgroup in S\n",
    "for i in [2..Length(S)] do\n",
    "    subgroup := S[i];\n",
    "    intersectionNonEmpty := true;\n",
    "    # Check if the intersection of subgroup with all other subgroups is non-empty\n",
    "    for j in [2..Length(S)] do        \n",
    "        if Size(Intersection(subgroup, S[j])) = 1 then\n",
    "            intersectionNonEmpty := false;\n",
    "            break;\n",
    "        fi;\n",
    "    od;\n",
    "    # If the intersection with all other subgroups is non-empty, store the subgroup\n",
    "    if intersectionNonEmpty then\n",
    "        Add(essentialSubgroups, subgroup);\n",
    "    fi;\n",
    "od;\n",
    "\n",
    "# Display all subgroups\n",
    "Print(\"All subgroups:\\n\", AsList(S), \"\\n\");\n",
    "\n",
    "# Display the essential subgroups\n",
    "Print(\"Essential subgroups:\\n\", AsList(essentialSubgroups), \"\\n\");\n"
   ]
  },
  {
   "cell_type": "code",
   "execution_count": 96,
   "metadata": {},
   "outputs": [
    {
     "name": "stdout",
     "output_type": "stream",
     "text": [
      "Let:\n",
      "g0 := ()\n",
      "g1 := (1,2,3,4)(5,6,7,8)\n",
      "g2 := (1,3)(2,4)(5,7)(6,8)\n",
      "g3 := (1,4,3,2)(5,8,7,6)\n",
      "g4 := (1,5,3,7)(2,8,4,6)\n",
      "g5 := (1,6,3,8)(2,5,4,7)\n",
      "g6 := (1,7,3,5)(2,6,4,8)\n",
      "g7 := (1,8,3,6)(2,7,4,5)\n",
      "\n",
      "   *  | g0  g1  g2  g3  g4  g5  g6  g7  \n",
      "  ------------------------------------\n",
      "  g0  | g0  g1  g2  g3  g4  g5  g6  g7  \n",
      "  g1  | g1  g2  g3  g0  g7  g4  g5  g6  \n",
      "  g2  | g2  g3  g0  g1  g6  g7  g4  g5  \n",
      "  g3  | g3  g0  g1  g2  g5  g6  g7  g4  \n",
      "  g4  | g4  g5  g6  g7  g2  g3  g0  g1  \n",
      "  g5  | g5  g6  g7  g4  g1  g2  g3  g0  \n",
      "  g6  | g6  g7  g4  g5  g0  g1  g2  g3  \n",
      "  g7  | g7  g4  g5  g6  g3  g0  g1  g2  \n",
      "All subgroups:\n",
      "[ Group( () ), Group( [ (1,3)(2,4)(5,7)(6,8) ] ), \n",
      "  Group( [ (1,3)(2,4)(5,7)(6,8), (1,5,3,7)(2,8,4,6) ] ), \n",
      "  Group( [ (1,3)(2,4)(5,7)(6,8), (1,2,3,4)(5,6,7,8) ] ), \n",
      "  Group( [ (1,3)(2,4)(5,7)(6,8), (1,6,3,8)(2,5,4,7) ] ), \n",
      "  Group( [ (1,3)(2,4)(5,7)(6,8), (1,5,3,7)(2,8,4,6), (1,2,3,4)(5,6,7,8) ] ) ]\n",
      "Essential subgroups:\n",
      "[ Group( [ (1,3)(2,4)(5,7)(6,8) ] ), \n",
      "  Group( [ (1,3)(2,4)(5,7)(6,8), (1,5,3,7)(2,8,4,6) ] ), \n",
      "  Group( [ (1,3)(2,4)(5,7)(6,8), (1,2,3,4)(5,6,7,8) ] ), \n",
      "  Group( [ (1,3)(2,4)(5,7)(6,8), (1,6,3,8)(2,5,4,7) ] ), \n",
      "  Group( [ (1,3)(2,4)(5,7)(6,8), (1,5,3,7)(2,8,4,6), (1,2,3,4)(5,6,7,8) ] ) ]\n"
     ]
    },
    {
     "data": {
      "text/plain": [
       "8/5"
      ]
     },
     "execution_count": 89,
     "metadata": {
      "text/plain": ""
     },
     "output_type": "execute_result"
    },
    {
     "data": {
      "text/plain": [
       "false"
      ]
     },
     "execution_count": 90,
     "metadata": {
      "text/plain": ""
     },
     "output_type": "execute_result"
    },
    {
     "data": {
      "text/plain": [
       "[ Group(()), Group([ (1,3)(2,4)(5,7)(6,8) ]), Group([ (1,3)(2,4)(5,7)(6,8), (1,5,3,7)(2,8,4,6) ]), Group([ (1,3)(2,4)(5,7)(6,8), (1,2,3,4)(5,6,7,8) ]), Group([ (1,3)(2,4)(5,7)(6,8), (1,6,3,8)(2,5,4,7) ]), Group([ (1,3)(2,4)(5,7)(6,8), (1,5,3,7)(2,8,4,6), (1,2,3,4)(5,6,7,8) ]) ]"
      ]
     },
     "execution_count": 92,
     "metadata": {
      "text/plain": ""
     },
     "output_type": "execute_result"
    }
   ],
   "source": [
    "# Load the package\n",
    "LoadPackage(\"Sonata\");;\n",
    "\n",
    "\n",
    "# Construct the cyclic group Zn\n",
    "G := GTW8_5;\n",
    "IsAbelian(G);\n",
    "\n",
    "# Print the table of the group\n",
    "PrintTable(G);\n",
    "\n",
    "# Get the subgroups of the group\n",
    "S := Subgroups(G);\n",
    "#AsList(S[1]); AsList(S[2]); AsList(S[3]); AsList(S[4]); AsList(S[5]);\n",
    "\n",
    "# Initialize a set to store the essential subgroups\n",
    "essentialSubgroups := [];;\n",
    "\n",
    "# Iterate over each subgroup in S\n",
    "for i in [2..Length(S)] do\n",
    "    subgroup := S[i];\n",
    "    intersectionNonEmpty := true;\n",
    "    # Check if the intersection of subgroup with all other subgroups is non-empty\n",
    "    for j in [2..Length(S)] do        \n",
    "        if Size(Intersection(subgroup, S[j])) = 1 then\n",
    "            intersectionNonEmpty := false;\n",
    "            break;\n",
    "        fi;\n",
    "    od;\n",
    "    # If the intersection with all other subgroups is non-empty, store the subgroup\n",
    "    if intersectionNonEmpty then\n",
    "        Add(essentialSubgroups, subgroup);\n",
    "    fi;\n",
    "od;\n",
    "\n",
    "# Display all subgroups\n",
    "Print(\"All subgroups:\\n\", AsList(S), \"\\n\");\n",
    "\n",
    "# Display the essential subgroups\n",
    "Print(\"Essential subgroups:\\n\", AsList(essentialSubgroups), \"\\n\");\n"
   ]
  },
  {
   "cell_type": "code",
   "execution_count": 8,
   "metadata": {},
   "outputs": [
    {
     "name": "stdout",
     "output_type": "stream",
     "text": [
      "#I  You may wish to install the xgap package\n",
      "#I  and enjoy the graphic capabilities of SONATA.\n",
      "Let:\n",
      "n0 := (())\n",
      "n1 := ((3,4))\n",
      "n2 := ((1,2))\n",
      "n3 := ((1,2)(3,4))\n",
      "\n",
      "   +  | n0  n1  n2  n3  \n",
      "  --------------------\n",
      "  n0  | n0  n1  n2  n3  \n",
      "  n1  | n1  n0  n3  n2  \n",
      "  n2  | n2  n3  n0  n1  \n",
      "  n3  | n3  n2  n1  n0  \n",
      "\n",
      "   *  | n0  n1  n2  n3  \n",
      "  --------------------\n",
      "  n0  | n0  n0  n0  n0  \n",
      "  n1  | n0  n0  n0  n0  \n",
      "  n2  | n0  n0  n0  n0  \n",
      "  n3  | n0  n0  n1  n1  \n",
      "No. of ideals : 3\n",
      "The elements of N are: [ (()), ((3,4)), ((1,2)), ((1,2)(3,4)) ]\n",
      "The ideals are: \n",
      "[ (()), ((3,4)), ((1,2)), ((1,2)(3,4)) ]\n",
      "[ (()), ((3,4)) ]\n",
      "[ (()) ]"
     ]
    }
   ],
   "source": [
    "LoadPackage(\"Sonata\");;\n",
    "N := LibraryNearRing( GTW4_2, 2 );;\n",
    "PrintTable(N);\n",
    "I := NearRingLeftIdeals( N );;\n",
    "Print(\"No. of ideals : \", Size(I) , \"\\n\");\n",
    "Print(\"The elements of N are: \", AsList(N), \"\\n\");\n",
    "A:=I[1];;\n",
    "Print(\"The ideals are: \", \"\\n\" , AsList(A), \"\\n\", AsList(I[2]), \"\\n\", AsList(I[3])); "
   ]
  },
  {
   "cell_type": "code",
   "execution_count": null,
   "metadata": {},
   "outputs": [],
   "source": [
    "LoadPackage(\"Sonata\");\n",
    "                                \n",
    "N:=LibraryNearRing( GTW4_2, 2 );\n",
    " PrintTable(N);\n"
   ]
  }
 ],
 "metadata": {
  "kernelspec": {
   "display_name": "GAP 4",
   "language": "gap",
   "name": "gap-4"
  },
  "language_info": {
   "codemirror_mode": "gap",
   "file_extension": ".g",
   "mimetype": "text/x-gap",
   "name": "GAP 4",
   "nbconvert_exporter": "",
   "pygments_lexer": "gap",
   "version": "4.11.1"
  }
 },
 "nbformat": 4,
 "nbformat_minor": 5
}
