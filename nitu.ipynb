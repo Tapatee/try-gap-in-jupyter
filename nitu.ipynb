{
 "cells": [
  {
   "cell_type": "code",
   "execution_count": 32,
   "metadata": {},
   "outputs": [
    {
     "name": "stdout",
     "output_type": "stream",
     "text": [
      "Essential subgroups:\n",
      "[ Group( () ), Group( [ (1,5)(2,6)(3,7)(4,8) ] ), \n",
      "  Group( [ (1,5)(2,6)(3,7)(4,8), (1,3,5,7)(2,4,6,8) ] ), \n",
      "  Group( [ (1,5)(2,6)(3,7)(4,8), (1,3,5,7)(2,4,6,8), (1,2,3,4,5,6,7,8) ] ) ]\n"
     ]
    },
    {
     "data": {
      "text/plain": [
       "true"
      ]
     },
     "execution_count": 29,
     "metadata": {
      "text/plain": ""
     },
     "output_type": "execute_result"
    },
    {
     "data": {
      "text/plain": [
       "[ Group(()), Group([ (1,5)(2,6)(3,7)(4,8) ]), Group([ (1,5)(2,6)(3,7)(4,8), (1,3,5,7)(2,4,6,8) ]), Group([ (1,5)(2,6)(3,7)(4,8), (1,3,5,7)(2,4,6,8), (1,2,3,4,5,6,7,8) ]) ]"
      ]
     },
     "execution_count": 30,
     "metadata": {
      "text/plain": ""
     },
     "output_type": "execute_result"
    }
   ],
   "source": [
    "LoadPackage(\"digraphs\");\n",
    "essentialSubgroups := [];\n",
    "\n",
    "for i in [1..Length(S)] do\n",
    "    subgroup := S[i];\n",
    "    intersectionNonEmpty := true;\n",
    "    # Check if the intersection of subgroup with all other subgroups is non-empty\n",
    "    for j in [1..Length(S)] do\n",
    "        if j <> i then\n",
    "            if Size(Intersection(subgroup, S[j])) = 0 then\n",
    "                intersectionNonEmpty := false;\n",
    "                break;\n",
    "            fi;\n",
    "        fi;\n",
    "    od;\n",
    "    # If the intersection with all other subgroups is non-empty, store the subgroup\n",
    "    if intersectionNonEmpty then\n",
    "        Add(essentialSubgroups, subgroup);\n",
    "    fi;\n",
    "od;\n",
    "\n",
    "# Display the essential subgroups\n",
    "Print(\"Essential subgroups:\\n\", essentialSubgroups, \"\\n\");\n",
    "\n",
    "\n"
   ]
  },
  {
   "cell_type": "code",
   "execution_count": 39,
   "metadata": {},
   "outputs": [
    {
     "name": "stdout",
     "output_type": "stream",
     "text": [
      "Let:\n",
      "g0 := ()\n",
      "g1 := (1,2,3,4)\n",
      "g2 := (1,3)(2,4)\n",
      "g3 := (1,4,3,2)\n",
      "\n",
      "   *  | g0  g1  g2  g3  \n",
      "  --------------------\n",
      "  g0  | g0  g1  g2  g3  \n",
      "  g1  | g1  g2  g3  g0  \n",
      "  g2  | g2  g3  g0  g1  \n",
      "  g3  | g3  g0  g1  g2  \n",
      "Essential subgroups:\n",
      "[ Group( () ), Group( [ (1,5)(2,6)(3,7)(4,8) ] ), \n",
      "  Group( [ (1,5)(2,6)(3,7)(4,8), (1,3,5,7)(2,4,6,8) ] ), \n",
      "  Group( [ (1,5)(2,6)(3,7)(4,8), (1,3,5,7)(2,4,6,8), (1,2,3,4,5,6,7,8) ] ), \n",
      "  Group( () ), Group( [ (1,3)(2,4) ] ), Group( [ (1,3)(2,4), (1,2,3,4) ] ) ]\n"
     ]
    },
    {
     "data": {
      "text/plain": [
       "true"
      ]
     },
     "execution_count": 33,
     "metadata": {
      "text/plain": ""
     },
     "output_type": "execute_result"
    },
    {
     "data": {
      "text/plain": [
       "Group([ (1,2,3,4) ])"
      ]
     },
     "execution_count": 34,
     "metadata": {
      "text/plain": ""
     },
     "output_type": "execute_result"
    },
    {
     "data": {
      "text/plain": [
       "[ Group(()), Group([ (1,3)(2,4) ]), Group([ (1,3)(2,4), (1,2,3,4) ]) ]"
      ]
     },
     "execution_count": 36,
     "metadata": {
      "text/plain": ""
     },
     "output_type": "execute_result"
    },
    {
     "data": {
      "text/plain": [
       "[  ]"
      ]
     },
     "execution_count": 37,
     "metadata": {
      "text/plain": ""
     },
     "output_type": "execute_result"
    }
   ],
   "source": [
    "LoadPackage(\"Sonata\");\n",
    "\n",
    "G := CyclicGroup(IsPermGroup, 4);\n",
    "PrintTable(G);\n",
    "S := Subgroups(G);\n",
    "essentialSubgrous := [];\n",
    "\n",
    "for i in [1..Length(S)] do\n",
    "    subgroup := S[i];\n",
    "    intersectionNonEmpty := true;\n",
    "    # Check if the intersection of subgroup with all other subgroups is non-empty\n",
    "    for j in [1..Length(S)] do\n",
    "        if j <> i then\n",
    "            if Size(Intersection(subgroup, S[j])) = 0 then\n",
    "                intersectionNonEmpty := false;\n",
    "                break;\n",
    "            fi;\n",
    "        fi;\n",
    "    od;\n",
    "    # If the intersection with all other subgroups is non-empty, store the subgroup\n",
    "    if intersectionNonEmpty then\n",
    "        Add(essentialSubgroups, subgroup);\n",
    "    fi;\n",
    "od;\n",
    "\n",
    "Print(\"Essential subgroups:\\n\", essentialSubgroups, \"\\n\");"
   ]
  },
  {
   "cell_type": "code",
   "execution_count": 46,
   "metadata": {},
   "outputs": [
    {
     "name": "stdout",
     "output_type": "stream",
     "text": [
      "Let:\n",
      "g0 := ()\n",
      "g1 := (1,2,3,4)\n",
      "g2 := (1,3)(2,4)\n",
      "g3 := (1,4,3,2)\n",
      "\n",
      "   *  | g0  g1  g2  g3  \n",
      "  --------------------\n",
      "  g0  | g0  g1  g2  g3  \n",
      "  g1  | g1  g2  g3  g0  \n",
      "  g2  | g2  g3  g0  g1  \n",
      "  g3  | g3  g0  g1  g2  \n",
      "Essential subgroups:\n",
      "[ Group( () ), Group( [ (1,5)(2,6)(3,7)(4,8) ] ), \n",
      "  Group( [ (1,5)(2,6)(3,7)(4,8), (1,3,5,7)(2,4,6,8) ] ), \n",
      "  Group( [ (1,5)(2,6)(3,7)(4,8), (1,3,5,7)(2,4,6,8), (1,2,3,4,5,6,7,8) ] ), \n",
      "  Group( () ), Group( [ (1,3)(2,4) ] ), Group( [ (1,3)(2,4), (1,2,3,4) ] ), \n",
      "  Group( () ), Group( [ (1,3)(2,4) ] ), Group( [ (1,3)(2,4), (1,2,3,4) ] ) ]\n"
     ]
    },
    {
     "data": {
      "text/plain": [
       "true"
      ]
     },
     "execution_count": 40,
     "metadata": {
      "text/plain": ""
     },
     "output_type": "execute_result"
    },
    {
     "data": {
      "text/plain": [
       "Group([ (1,2,3,4) ])"
      ]
     },
     "execution_count": 41,
     "metadata": {
      "text/plain": ""
     },
     "output_type": "execute_result"
    },
    {
     "data": {
      "text/plain": [
       "[ Group(()), Group([ (1,3)(2,4) ]), Group([ (1,3)(2,4), (1,2,3,4) ]) ]"
      ]
     },
     "execution_count": 43,
     "metadata": {
      "text/plain": ""
     },
     "output_type": "execute_result"
    },
    {
     "data": {
      "text/plain": [
       "[  ]"
      ]
     },
     "execution_count": 44,
     "metadata": {
      "text/plain": ""
     },
     "output_type": "execute_result"
    }
   ],
   "source": [
    "LoadPackage(\"Sonata\");\n",
    "\n",
    "G := CyclicGroup(IsPermGroup, 4);\n",
    "PrintTable(G);\n",
    "S := Subgroups(G);\n",
    "essentialSubgrous := [];\n",
    "\n",
    "for i in [1..Length(S)] do\n",
    "    subgroup := S[i];\n",
    "    intersectionNonEmpty := true;\n",
    "    # Check if the intersection of subgroup with all other subgroups is non-empty\n",
    "    for j in [1..Length(S)] do\n",
    "        if j <> i then\n",
    "            if Size(Intersection(subgroup, S[j])) = 0 then\n",
    "                intersectionNonEmpty := false;\n",
    "                break;\n",
    "            fi;\n",
    "        fi;\n",
    "    od;\n",
    "    # If the intersection with all other subgroups is non-empty, store the subgroup\n",
    "    if intersectionNonEmpty then\n",
    "        Add(essentialSubgroups, subgroup);\n",
    "    fi;\n",
    "od;\n",
    "\n",
    "Print(\"Essential subgroups:\\n\", essentialSubgroups, \"\\n\");"
   ]
  },
  {
   "cell_type": "code",
   "execution_count": null,
   "metadata": {},
   "outputs": [],
   "source": [
    "# Load the package\n",
    "LoadPackage(\"Sonata\");;\n",
    "\n",
    "\n",
    "# Construct the cyclic group Zn\n",
    "G := CyclicGroup(IsPermGroup, 8);;\n",
    "\n",
    "# Print the table of the group\n",
    "PrintTable(G);\n",
    "\n",
    "# Get the subgroups of the group\n",
    "S := Subgroups(G);;\n",
    "A:=S[1];; B:=S[2];; C:=S[3];; D:=S[4];;\n",
    "AsList(A); AsList(B); AsList(C); AsList(D);\n",
    "\n",
    "# Initialize a set to store the essential subgroups\n",
    "essentialSubgroups := [];;\n",
    "\n",
    "# Iterate over each subgroup in S\n",
    "for i in [2..Length(S)] do\n",
    "    subgroup := S[i];\n",
    "    intersectionNonEmpty := true;\n",
    "    # Check if the intersection of subgroup with all other subgroups is non-empty\n",
    "    for j in [2..Length(S)] do        \n",
    "        if Size(Intersection(subgroup, S[j])) = 1 then\n",
    "            intersectionNonEmpty := false;\n",
    "            break;\n",
    "        fi;\n",
    "    od;\n",
    "    # If the intersection with all other subgroups is non-empty, store the subgroup\n",
    "    if intersectionNonEmpty then\n",
    "        Add(essentialSubgroups, subgroup);\n",
    "    fi;\n",
    "od;\n",
    "\n",
    "# Display all subgroups\n",
    "Print(\"All subgroups:\\n\", AsList(S), \"\\n\");\n",
    "\n",
    "# Display the essential subgroups\n",
    "Print(\"Essential subgroups:\\n\", AsList(essentialSubgroups), \"\\n\");\n"
   ]
  },
  {
   "cell_type": "code",
   "execution_count": null,
   "metadata": {},
   "outputs": [],
   "source": [
    "# Load the package\n",
    "LoadPackage(\"Sonata\");;\n",
    "\n",
    "\n",
    "# Construct the cyclic group Zn\n",
    "G := GTW4_2;;\n",
    "\n",
    "# Print the table of the group\n",
    "PrintTable(G);\n",
    "\n",
    "# Get the subgroups of the group\n",
    "S := Subgroups(G);;\n",
    "Size(S);\n",
    "A:=S[1];; B:=S[2];; C:=S[3];; D:=S[4];; E:=S[5];;\n",
    "AsList(A);; AsList(B);; AsList(C);; AsList(D);; AsList(E);;\n",
    "\n",
    "# Initialize a set to store the essential subgroups\n",
    "essentialSubgroups := [];;\n",
    "\n",
    "# Iterate over each subgroup in S\n",
    "for i in [2..Length(S)] do\n",
    "    subgroup := S[i];\n",
    "    intersectionNonEmpty := true;\n",
    "    # Check if the intersection of subgroup with all other subgroups is non-empty\n",
    "    for j in [2..Length(S)] do        \n",
    "        if Size(Intersection(subgroup, S[j])) = 1 then\n",
    "            intersectionNonEmpty := false;\n",
    "            break;\n",
    "        fi;\n",
    "    od;\n",
    "    # If the intersection with all other subgroups is non-empty, store the subgroup\n",
    "    if intersectionNonEmpty then\n",
    "        Add(essentialSubgroups, subgroup);\n",
    "    fi;\n",
    "od;\n",
    "\n",
    "# Display all subgroups\n",
    "Print(\"All subgroups:\\n\", AsList(S), \"\\n\");\n",
    "\n",
    "# Display the essential subgroups\n",
    "Print(\"Essential subgroups:\\n\", AsList(essentialSubgroups), \"\\n\");\n"
   ]
  },
  {
   "cell_type": "code",
   "execution_count": null,
   "metadata": {},
   "outputs": [],
   "source": []
  }
 ],
 "metadata": {
  "kernelspec": {
   "display_name": "GAP 4",
   "language": "gap",
   "name": "gap-4"
  },
  "language_info": {
   "codemirror_mode": "gap",
   "file_extension": ".g",
   "mimetype": "text/x-gap",
   "name": "GAP 4",
   "nbconvert_exporter": "",
   "pygments_lexer": "gap",
   "version": "4.11.1"
  }
 },
 "nbformat": 4,
 "nbformat_minor": 5
}
