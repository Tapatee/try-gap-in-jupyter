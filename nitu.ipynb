{
 "cells": [
  {
   "cell_type": "code",
   "execution_count": 198,
   "id": "b28790fe-54e5-490e-9b24-8b39dc341916",
   "metadata": {},
   "outputs": [
    {
     "name": "stdout",
     "output_type": "stream",
     "text": [
      "Essential subgroups:\n",
      "[ Group( () ), Group( [ (1,5)(2,6)(3,7)(4,8) ] ), \n",
      "  Group( [ (1,5)(2,6)(3,7)(4,8), (1,3,5,7)(2,4,6,8) ] ), \n",
      "  Group( [ (1,5)(2,6)(3,7)(4,8), (1,3,5,7)(2,4,6,8), (1,2,3,4,5,6,7,8) ] ) ]\n"
     ]
    },
    {
     "data": {
      "text/plain": [
       "true"
      ]
     },
     "execution_count": 195,
     "metadata": {
      "text/plain": ""
     },
     "output_type": "execute_result"
    },
    {
     "data": {
      "text/plain": [
       "[ Group(()), Group([ (1,5)(2,6)(3,7)(4,8) ]),   Group([ (1,5)(2,6)(3,7)(4,8), (1,3,5,7)(2,4,6,8) ]),   Group([ (1,5)(2,6)(3,7)(4,8), (1,3,5,7)(2,4,6,8), (1,2,3,4,5,6,7,8) ]) ]"
      ]
     },
     "execution_count": 196,
     "metadata": {
      "text/plain": ""
     },
     "output_type": "execute_result"
    }
   ],
   "source": [
    "LoadPackage(\"digraphs\");\n",
    "essentialSubgroups := [];\n",
    "\n",
    "for i in [1..Length(S)] do\n",
    "    subgroup := S[i];\n",
    "    intersectionNonEmpty := true;\n",
    "    # Check if the intersection of subgroup with all other subgroups is non-empty\n",
    "    for j in [1..Length(S)] do\n",
    "        if j <> i then\n",
    "            if Size(Intersection(subgroup, S[j])) = 0 then\n",
    "                intersectionNonEmpty := false;\n",
    "                break;\n",
    "            fi;\n",
    "        fi;\n",
    "    od;\n",
    "    # If the intersection with all other subgroups is non-empty, store the subgroup\n",
    "    if intersectionNonEmpty then\n",
    "        Add(essentialSubgroups, subgroup);\n",
    "    fi;\n",
    "od;\n",
    "\n",
    "# Display the essential subgroups\n",
    "Print(\"Essential subgroups:\\n\", essentialSubgroups, \"\\n\");\n",
    "\n",
    "\n"
   ]
  },
  {
   "cell_type": "code",
   "execution_count": null,
   "id": "bc3ed8c3-b5af-476a-b1c5-9d942b3ca524",
   "metadata": {},
   "outputs": [],
   "source": []
  },
  {
   "cell_type": "code",
   "execution_count": 108,
   "id": "4ddb752e-d531-4ed1-b04f-7eee77f5ba0e",
   "metadata": {},
   "outputs": [
    {
     "name": "stdout",
     "output_type": "stream",
     "text": [
      "Let:\n",
      "g0 := ()\n",
      "g1 := (1,2,3,4)\n",
      "g2 := (1,3)(2,4)\n",
      "g3 := (1,4,3,2)\n",
      "\n",
      "   *  | g0  g1  g2  g3  \n",
      "  --------------------\n",
      "  g0  | g0  g1  g2  g3  \n",
      "  g1  | g1  g2  g3  g0  \n",
      "  g2  | g2  g3  g0  g1  \n",
      "  g3  | g3  g0  g1  g2  \n",
      "Essential subgroups:\n",
      "[ Group( () ), Group( [ (1,3)(2,4) ] ), Group( [ (1,3)(2,4), (1,2,3,4) ] ), \n",
      "  Group( () ), Group( [ (1,3)(2,4) ] ), Group( [ (1,3)(2,4), (1,2,3,4) ] ), \n",
      "  Group( () ), Group( [ (1,3)(2,4) ] ), Group( [ (1,3)(2,4), (1,2,3,4) ] ), \n",
      "  Group( () ), Group( [ (1,3)(2,4) ] ), Group( [ (1,3)(2,4), (1,2,3,4) ] ), \n",
      "  Group( () ), Group( [ (1,3)(2,4) ] ), Group( [ (1,3)(2,4), (1,2,3,4) ] ), \n",
      "  Group( () ), Group( [ (1,3)(2,4) ] ), Group( [ (1,3)(2,4), (1,2,3,4) ] ), \n",
      "  Group( () ), Group( [ (1,3)(2,4) ] ), Group( [ (1,3)(2,4), (1,2,3,4) ] ), \n",
      "  Group( () ), Group( [ (1,3)(2,4) ] ), Group( [ (1,3)(2,4), (1,2,3,4) ] ) ]\n"
     ]
    },
    {
     "data": {
      "text/plain": [
       "true"
      ]
     },
     "execution_count": 102,
     "metadata": {
      "text/plain": ""
     },
     "output_type": "execute_result"
    },
    {
     "data": {
      "text/plain": [
       "Group([ (1,2,3,4) ])"
      ]
     },
     "execution_count": 103,
     "metadata": {
      "text/plain": ""
     },
     "output_type": "execute_result"
    },
    {
     "data": {
      "text/plain": [
       "[ Group(()), Group([ (1,3)(2,4) ]), Group([ (1,3)(2,4), (1,2,3,4) ]) ]"
      ]
     },
     "execution_count": 105,
     "metadata": {
      "text/plain": ""
     },
     "output_type": "execute_result"
    },
    {
     "data": {
      "text/plain": [
       "[  ]"
      ]
     },
     "execution_count": 106,
     "metadata": {
      "text/plain": ""
     },
     "output_type": "execute_result"
    }
   ],
   "source": [
    "LoadPackage(\"Sonata\");\n",
    "\n",
    "G := CyclicGroup(IsPermGroup, 4);\n",
    "PrintTable(G);\n",
    "S := Subgroups(G);\n",
    "essentialSubgrous := [];\n",
    "\n",
    "for i in [1..Length(S)] do\n",
    "    subgroup := S[i];\n",
    "    intersectionNonEmpty := true;\n",
    "    # Check if the intersection of subgroup with all other subgroups is non-empty\n",
    "    for j in [1..Length(S)] do\n",
    "        if j <> i then\n",
    "            if Size(Intersection(subgroup, S[j])) = 0 then\n",
    "                intersectionNonEmpty := false;\n",
    "                break;\n",
    "            fi;\n",
    "        fi;\n",
    "    od;\n",
    "    # If the intersection with all other subgroups is non-empty, store the subgroup\n",
    "    if intersectionNonEmpty then\n",
    "        Add(essentialSubgroups, subgroup);\n",
    "    fi;\n",
    "od;\n",
    "\n",
    "Print(\"Essential subgroups:\\n\", essentialSubgroups, \"\\n\");"
   ]
  },
  {
   "cell_type": "code",
   "execution_count": 115,
   "id": "888e4625-5a9b-4408-badd-6498c44ab584",
   "metadata": {},
   "outputs": [
    {
     "name": "stdout",
     "output_type": "stream",
     "text": [
      "Let:\n",
      "g0 := ()\n",
      "g1 := (1,2,3,4)\n",
      "g2 := (1,3)(2,4)\n",
      "g3 := (1,4,3,2)\n",
      "\n",
      "   *  | g0  g1  g2  g3  \n",
      "  --------------------\n",
      "  g0  | g0  g1  g2  g3  \n",
      "  g1  | g1  g2  g3  g0  \n",
      "  g2  | g2  g3  g0  g1  \n",
      "  g3  | g3  g0  g1  g2  \n",
      "Essential subgroups:\n",
      "[ Group( () ), Group( [ (1,3)(2,4) ] ), Group( [ (1,3)(2,4), (1,2,3,4) ] ), \n",
      "  Group( () ), Group( [ (1,3)(2,4) ] ), Group( [ (1,3)(2,4), (1,2,3,4) ] ), \n",
      "  Group( () ), Group( [ (1,3)(2,4) ] ), Group( [ (1,3)(2,4), (1,2,3,4) ] ), \n",
      "  Group( () ), Group( [ (1,3)(2,4) ] ), Group( [ (1,3)(2,4), (1,2,3,4) ] ), \n",
      "  Group( () ), Group( [ (1,3)(2,4) ] ), Group( [ (1,3)(2,4), (1,2,3,4) ] ), \n",
      "  Group( () ), Group( [ (1,3)(2,4) ] ), Group( [ (1,3)(2,4), (1,2,3,4) ] ), \n",
      "  Group( () ), Group( [ (1,3)(2,4) ] ), Group( [ (1,3)(2,4), (1,2,3,4) ] ), \n",
      "  Group( () ), Group( [ (1,3)(2,4) ] ), Group( [ (1,3)(2,4), (1,2,3,4) ] ), \n",
      "  Group( () ), Group( [ (1,3)(2,4) ] ), Group( [ (1,3)(2,4), (1,2,3,4) ] ) ]\n"
     ]
    },
    {
     "data": {
      "text/plain": [
       "true"
      ]
     },
     "execution_count": 109,
     "metadata": {
      "text/plain": ""
     },
     "output_type": "execute_result"
    },
    {
     "data": {
      "text/plain": [
       "Group([ (1,2,3,4) ])"
      ]
     },
     "execution_count": 110,
     "metadata": {
      "text/plain": ""
     },
     "output_type": "execute_result"
    },
    {
     "data": {
      "text/plain": [
       "[ Group(()), Group([ (1,3)(2,4) ]), Group([ (1,3)(2,4), (1,2,3,4) ]) ]"
      ]
     },
     "execution_count": 112,
     "metadata": {
      "text/plain": ""
     },
     "output_type": "execute_result"
    },
    {
     "data": {
      "text/plain": [
       "[  ]"
      ]
     },
     "execution_count": 113,
     "metadata": {
      "text/plain": ""
     },
     "output_type": "execute_result"
    }
   ],
   "source": [
    "LoadPackage(\"Sonata\");\n",
    "\n",
    "G := CyclicGroup(IsPermGroup, 4);\n",
    "PrintTable(G);\n",
    "S := Subgroups(G);\n",
    "essentialSubgrous := [];\n",
    "\n",
    "for i in [1..Length(S)] do\n",
    "    subgroup := S[i];\n",
    "    intersectionNonEmpty := true;\n",
    "    # Check if the intersection of subgroup with all other subgroups is non-empty\n",
    "    for j in [1..Length(S)] do\n",
    "        if j <> i then\n",
    "            if Size(Intersection(subgroup, S[j])) = 0 then\n",
    "                intersectionNonEmpty := false;\n",
    "                break;\n",
    "            fi;\n",
    "        fi;\n",
    "    od;\n",
    "    # If the intersection with all other subgroups is non-empty, store the subgroup\n",
    "    if intersectionNonEmpty then\n",
    "        Add(essentialSubgroups, subgroup);\n",
    "    fi;\n",
    "od;\n",
    "\n",
    "Print(\"Essential subgroups:\\n\", essentialSubgroups, \"\\n\");"
   ]
  },
  {
   "cell_type": "code",
   "execution_count": 194,
   "id": "879b8260-0023-4ce3-877a-314750522bc0",
   "metadata": {},
   "outputs": [
    {
     "name": "stdout",
     "output_type": "stream",
     "text": [
      "Let:\n",
      "g0 := ()\n",
      "g1 := (1,2,3,4,5,6,7,8)\n",
      "g2 := (1,3,5,7)(2,4,6,8)\n",
      "g3 := (1,4,7,2,5,8,3,6)\n",
      "g4 := (1,5)(2,6)(3,7)(4,8)\n",
      "g5 := (1,6,3,8,5,2,7,4)\n",
      "g6 := (1,7,5,3)(2,8,6,4)\n",
      "g7 := (1,8,7,6,5,4,3,2)\n",
      "\n",
      "   *  | g0  g1  g2  g3  g4  g5  g6  g7  \n",
      "  ------------------------------------\n",
      "  g0  | g0  g1  g2  g3  g4  g5  g6  g7  \n",
      "  g1  | g1  g2  g3  g4  g5  g6  g7  g0  \n",
      "  g2  | g2  g3  g4  g5  g6  g7  g0  g1  \n",
      "  g3  | g3  g4  g5  g6  g7  g0  g1  g2  \n",
      "  g4  | g4  g5  g6  g7  g0  g1  g2  g3  \n",
      "  g5  | g5  g6  g7  g0  g1  g2  g3  g4  \n",
      "  g6  | g6  g7  g0  g1  g2  g3  g4  g5  \n",
      "  g7  | g7  g0  g1  g2  g3  g4  g5  g6  \n",
      "All subgroups:\n",
      "[ Group( () ), Group( [ (1,5)(2,6)(3,7)(4,8) ] ), \n",
      "  Group( [ (1,5)(2,6)(3,7)(4,8), (1,3,5,7)(2,4,6,8) ] ), \n",
      "  Group( [ (1,5)(2,6)(3,7)(4,8), (1,3,5,7)(2,4,6,8), (1,2,3,4,5,6,7,8) ] ) ]\n",
      "Essential subgroups:\n",
      "[ Group( () ), Group( [ (1,5)(2,6)(3,7)(4,8) ] ), \n",
      "  Group( [ (1,5)(2,6)(3,7)(4,8), (1,3,5,7)(2,4,6,8) ] ), \n",
      "  Group( [ (1,5)(2,6)(3,7)(4,8), (1,3,5,7)(2,4,6,8), (1,2,3,4,5,6,7,8) ] ) ]\n"
     ]
    }
   ],
   "source": [
    "# Load the package\n",
    "LoadPackage(\"Sonata\");;\n",
    "\n",
    "\n",
    "# Construct the cyclic group Zn\n",
    "G := CyclicGroup(IsPermGroup, 8);;\n",
    "\n",
    "# Print the table of the group\n",
    "PrintTable(G);\n",
    "\n",
    "# Get the subgroups of the group\n",
    "S := Subgroups(G);;\n",
    "\n",
    "# Initialize a set to store the essential subgroups\n",
    "essentialSubgroups := [];;\n",
    "\n",
    "# Iterate over each subgroup in S\n",
    "for i in [1..Length(S)] do\n",
    "    subgroup := S[i];\n",
    "    intersectionNonEmpty := true;\n",
    "    # Check if the intersection of subgroup with all other subgroups is non-empty\n",
    "    for j in [1..Length(S)] do\n",
    "        if j <> i then\n",
    "            if Size(Intersection(subgroup, S[j])) = 0 then\n",
    "                intersectionNonEmpty := false;\n",
    "                break;\n",
    "            fi;\n",
    "        fi;\n",
    "    od;\n",
    "    # If the intersection with all other subgroups is non-empty, store the subgroup\n",
    "    if intersectionNonEmpty then\n",
    "        Add(essentialSubgroups, subgroup);\n",
    "    fi;\n",
    "od;\n",
    "\n",
    "# Display all subgroups\n",
    "Print(\"All subgroups:\\n\", S, \"\\n\");\n",
    "\n",
    "# Display the essential subgroups\n",
    "Print(\"Essential subgroups:\\n\", essentialSubgroups, \"\\n\");\n"
   ]
  },
  {
   "cell_type": "code",
   "execution_count": null,
   "id": "ca9005ff-f691-448d-8f2f-1e52f07ea8cf",
   "metadata": {},
   "outputs": [],
   "source": []
  }
 ],
 "metadata": {
  "kernelspec": {
   "display_name": "GAP 4",
   "language": "gap",
   "name": "gap-4"
  },
  "language_info": {
   "codemirror_mode": "gap",
   "file_extension": ".g",
   "mimetype": "text/x-gap",
   "name": "GAP 4",
   "nbconvert_exporter": "",
   "pygments_lexer": "gap",
   "version": "4.14dev"
  }
 },
 "nbformat": 4,
 "nbformat_minor": 5
}
